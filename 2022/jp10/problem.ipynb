{
 "cells": [
  {
   "cell_type": "code",
   "execution_count": 1,
   "id": "ae7e41b4-9a23-4c92-81e0-3508747f728b",
   "metadata": {},
   "outputs": [],
   "source": [
    "%matplotlib inline"
   ]
  },
  {
   "cell_type": "markdown",
   "id": "01a5b591-2740-4e5d-b19d-d8f9aca1f1c6",
   "metadata": {},
   "source": [
    "# PFN2022 夏季国内インターン テーマ別課題 【JP10 第1問】\n",
    "\n",
    "この課題では簡単な質点の運動とそのシミュレーションを考察します。\n",
    "\n",
    "以下の指示に従ってこの notebook に説明や実装などを追加し、編集した notebook (.ipynb ファイル) をレポートとして提出してください。\n",
    "\n",
    "Notebook には Python コードとその出力だけではなく、Markdown テキストを含めることができます。解答にあたっては、思考の過程がわかるように、適切にテキストやコメントを挿入してください。解答欄のセルは必要に応じて新規追加して構いません。また、解答にあたって参考にした文献は適切に引用してください。\n",
    "\n",
    "## notebook の実行環境¶\n",
    "\n",
    "この課題で扱うデータと手法は十分軽量であり、GPU などの高性能な計算デバイスを用いなくても十分遂行可能と思われます。\n",
    "\n",
    "提出された notebook は Python 3.9 環境で動作確認と評価を行います。\n",
    "\n",
    "この notebook ではデフォルトで matplotlib, numpy, pytorch を import しています。解答上の必要に応じて適切なライブラリを import することは差し支えありません。 その際、どのようなライブラリを選択・利用したかについても評価の対象となります。"
   ]
  },
  {
   "cell_type": "code",
   "execution_count": 2,
   "id": "f022891a-5161-411e-b0df-c072dac250b0",
   "metadata": {},
   "outputs": [],
   "source": [
    "import matplotlib.pyplot as plt\n",
    "import numpy as np\n",
    "import torch"
   ]
  },
  {
   "cell_type": "markdown",
   "id": "fd8c236d-263e-44e1-b59e-f5bd1078cfc4",
   "metadata": {},
   "source": [
    "## 問題\n",
    "\n",
    "単位質量をもつ質点が角振動数 $\\omega > 0$ で単振動をしている系を考えます。\n",
    "この質点の時刻 $t$ での位置を $x(t)$ と書くとき、系の運動方程式は\n",
    "$$\n",
    "\\frac{d^2x(t)}{dt^2} = - \\omega^2 x(t)\n",
    "$$\n",
    "と表されます。"
   ]
  },
  {
   "cell_type": "markdown",
   "id": "3234c411-8cf1-4dcc-8879-93e89a06ef31",
   "metadata": {},
   "source": [
    "## 問1\n",
    "\n",
    "この運動方程式の一般解を答えてください。その際に必要な積分定数は適宜導入してください。\n",
    "\n",
    "本問の解答にあたり、導出に関する説明は不要です。積分定数の説明を含む一般解のみ記入してください。"
   ]
  },
  {
   "cell_type": "markdown",
   "id": "744b9311-65b8-48ce-94bd-f7fa806afb8d",
   "metadata": {},
   "source": [
    "### 問1の解答欄\n",
    "\n",
    "$$\n",
    "x(t) = \\text{ここに一般解を記入してください}\n",
    "$$"
   ]
  },
  {
   "cell_type": "markdown",
   "id": "73fa4e0d-af01-45db-8c38-e37267672f0d",
   "metadata": {},
   "source": [
    "## 問2\n",
    "\n",
    "この質点の時刻 $t$ での運動量を $p(t) := \\dfrac{dx(t)}{dt}$ とおくとき、運動方程式を一階連立の形の形に書くことができます。\n",
    "\n",
    "$$\n",
    "\\frac{d}{dt}\\begin{pmatrix}x \\\\ p \\end{pmatrix} = A \\begin{pmatrix}x \\\\ p \\end{pmatrix}\n",
    "$$\n",
    "\n",
    "このとき、$2\\times 2$ 行列 $A$ を求めてください。\n",
    "\n",
    "本問の解答にあたり、導出に関する説明は不要です。"
   ]
  },
  {
   "cell_type": "markdown",
   "id": "fd1933cc-ee2a-494f-a7d6-aae07e72cbfe",
   "metadata": {},
   "source": [
    "### 問2の解答欄\n",
    "\n",
    "$$\n",
    "A = \\text{ここに解答を記入してください}\n",
    "$$"
   ]
  },
  {
   "cell_type": "markdown",
   "id": "b2f1cccb-635b-4525-8fef-5457381afaac",
   "metadata": {},
   "source": [
    "## 問3\n",
    "\n",
    "一般に、微分方程式の解析解が常に閉じた形に求まるとは限りません。\n",
    "解析解の閉じた式を求める代わりに、数値的に微分方程式を解くということがしばしば行われます。\n",
    "微分方程式の数値的解法の一つとして、オイラー法がよく知られています。\n",
    "\n",
    "問2 で導入した運動方程式を、オイラー法を用いて数値的に解くプログラムを作成し、求めた数値解 $x(t)$ のグラフを作図してください。\n",
    "数値計算と作図にあたって、次の値を用いてください。\n",
    "\n",
    "- 角振動数 $\\omega = 2.0$\n",
    "- 初期条件 $x(0) = 1.0, \\ p(0) = 0.0$\n",
    "- シミュレーション時間 $0.0 \\leq t \\leq 10.0$\n",
    "- オイラー法のステップ幅 $\\Delta t = 0.01$\n",
    "\n",
    "ここまでに導入した運動方程式は、問1 でみたように、解析解が知られています。\n",
    "比較のため、解析解も重ねて図示してください。"
   ]
  },
  {
   "cell_type": "code",
   "execution_count": 3,
   "id": "94cce889-c910-42a6-a1a0-0b48b6fe8127",
   "metadata": {},
   "outputs": [],
   "source": [
    "# 問3の解答欄"
   ]
  },
  {
   "cell_type": "markdown",
   "id": "d55f1105-5c56-4329-ac3c-2a01f8c6882d",
   "metadata": {},
   "source": [
    "## 問4\n",
    "上で得られた数値的解法の性能について考察しましょう。\n",
    "\n",
    "数値的解法の性能を測る代表的な指標として、数値解の精度・必要となる計算量および計算時間が挙げられます。\n",
    "また、単振動のような閉じた力学系ではエネルギーの保存も指標となります。\n",
    "\n",
    "これらの指標を改善するために考えられる手法をいくつか挙げてください。\n",
    "またそれらの手法を用いたときに生じる、各指標に対応する性能間の相関やトレードオフについて論じてください。"
   ]
  },
  {
   "cell_type": "markdown",
   "id": "352fc554-19ff-49d5-8d3e-ebb706677f44",
   "metadata": {},
   "source": [
    "### 問4の解答欄"
   ]
  },
  {
   "cell_type": "markdown",
   "id": "aec8a0b4-d229-45e5-b651-84d2d71f6fd6",
   "metadata": {
    "tags": []
   },
   "source": [
    "## 問5\n",
    "この運動方程式のパラメータ $\\omega > 0$, および初期値 $x(0), p(0)$ が未知である状況を考えましょう。\n",
    "\n",
    "この系の運動を観測し、位置と運動量の時系列データ $\\{(t_i; \\tilde{x}_i, \\tilde{p}_i)\\}_{i=0,...,N}$ を得ました。\n",
    "ここで $N = 1000$ であり、観測の時間間隔 $\\Delta t = t_{i+1} - t_i = 0.001$ は全ての観測点について等しいです。\n",
    "ただし、観測する際に用いたセンサーに不確かさがあったため、観測データには各 $(\\tilde{x}_i, \\tilde{p}_i)$ ともに、平均 0、 標準偏差 $0.1$ の正規分布に従う観測ノイズ $v_{x,i}, v_{p,i}$ が足されています。つまり、時刻 $t_i$ での真の値を $x(t_i), p(t_i)$ としたときに、\n",
    "\n",
    "$$\n",
    "\\begin{eqnarray*}\n",
    "    \\tilde{x}_i &= x(t_i) + v_{x, i} \\\\\n",
    "    \\tilde{p}_i &= p(t_i) + v_{p, i} \\\\\n",
    "    v_{x,i}, \\ v_{p,i} &\\sim \\mathcal{N}(0, 0.1) \\\\\n",
    "    i &= 0, \\dots, N\n",
    "\\end{eqnarray*}\n",
    "$$\n",
    "\n",
    "となっています。\n",
    "\n",
    "データは CSV 形式で与えられ、ヘッダー行が \"t,x,p\" であり, 続く $N + 1$ 行に観測値が \"$t_i, \\tilde{x}_i, \\tilde{p}_i$\" の順に並んでいます。添付のファイル `data.csv` がデータを格納したファイルです。適宜読み込んで使用してください。\n",
    "\n",
    "この問では、用いた手法の詳細やプログラムも記述してください。\n",
    "### (1)\n",
    "この観測データを用いて、未知のパラメータ $\\omega$ と初期値 $x(0), p(0)$ を推定してください。\n",
    "\n",
    "### (2)\n",
    "上で推定した $\\omega, x(0), p(0)$ を使って、時刻 $t = 0$ から再び運動方程式を積分することにより、系の未来にわたる位置 $x(t), 0 \\leq t \\leq 10$ を推定してください。結果は観測データ点 $\\tilde{x}_i, i=0,...,N$ とともにグラフにプロットしてください。"
   ]
  },
  {
   "cell_type": "markdown",
   "id": "01ecb2c7-e25b-4770-9baa-8abc5bb9f51a",
   "metadata": {},
   "source": [
    "### 問5の解答欄"
   ]
  }
 ],
 "metadata": {
  "kernelspec": {
   "display_name": "Python 3 (ipykernel)",
   "language": "python",
   "name": "python3"
  },
  "language_info": {
   "codemirror_mode": {
    "name": "ipython",
    "version": 3
   },
   "file_extension": ".py",
   "mimetype": "text/x-python",
   "name": "python",
   "nbconvert_exporter": "python",
   "pygments_lexer": "ipython3",
   "version": "3.9.1"
  }
 },
 "nbformat": 4,
 "nbformat_minor": 5
}
