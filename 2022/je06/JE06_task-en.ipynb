{
 "cells": [
  {
   "cell_type": "markdown",
   "id": "f65d2be4-887f-44b1-9ce8-2c82299fb8d6",
   "metadata": {},
   "source": [
    "# PFN Internship 2022 \"JE06. Development of algorithms to calculate physical properties for Matlantis\" Report Assignment\n",
    "\n",
    "Work on the following optimization problem. This problem is written in Python.\n",
    "\n",
    "If you find it easier to work on the task of \"JE19. Applied research and development of machine learning and atomic simulation on materials\" easier to work on than this assignment, you may answer that assignment instead of this one.\n",
    "\n",
    "## Problem Setup\n",
    "\n",
    "Place 64 labeled points in 3-dimensional space. The positions of the points are assumed to be non-overlapping. The labels are integer values. For each integer from 0 to 7, there are 8 points with a label with a value equal to that integer. Consider a function that returns a scalar value for this set of points. In this case, consider the arrangement of the points such that the return value is as small as possible.\n",
    "\n",
    "This assignment is modeled after the problem of estimating atomic structure. By considering each point as an atom and the scalar value as energy, the problem can be regarded as a problem of finding an atomic arrangement that is low in energy and stable.\n",
    "\n",
    "## About Function\n",
    "\n",
    "The concrete form of the function is provided below as the `calculate` function of the `LennardJonesI22` class. The details are described below, but here you can consider it as a black-box function.\n",
    "\n",
    "It takes two arguments: atom_type (64-dimensional, integer), which corresponds to the label of the point, and positions (64x3-dimensional, floating-point number), which corresponds to the coordinates of the point. The return values are `output` (a scalar value) and `grad` (the derivative of the output with respect to the coordinates). You don't have to use `grad`.\n",
    "\n",
    "This is what is known as the Lennard-Jones potential. For all point combinations, it is the sum of the return values of a function defined by the distance between two points and the labels of the two points as input arguments (two-body function).\n",
    "\n",
    "The two-body function asymptotes to zero when the distances are far enough apart. It behaves in such a way that its value decreases as the distance approaches a certain length and rapidly increases as the distance approaches further. Therefore, a good solution is to place each point at some stable distance from the other. The stable distance is about between 2 and 4.\n"
   ]
  },
  {
   "cell_type": "code",
   "execution_count": 1,
   "id": "54c98d62-1afd-47e5-a4d4-5dcd04335546",
   "metadata": {},
   "outputs": [],
   "source": [
    "from typing import Tuple\n",
    "\n",
    "import numpy as np\n",
    "\n",
    "\n",
    "class LennardJonesI22:\n",
    "    def __init__(self):\n",
    "        sigma_single = np.array([2.0 + 0.2 * x for x in range(8)])\n",
    "        epsilon_single = np.array([0.1 + 0.1 * x for x in range(8)])\n",
    "\n",
    "        self.sigma_matrix = 0.5 * (sigma_single[None, :] + sigma_single[:, None])\n",
    "        self.epsilon_matrix = np.sqrt(epsilon_single[None, :] * epsilon_single[:, None])\n",
    "\n",
    "    def calculate(self, atom_type: np.ndarray, positions: np.ndarray) -> Tuple[float, np.ndarray]:\n",
    "        assert len(positions.shape) == 2\n",
    "        assert positions.shape[1] == 3\n",
    "        n_atoms = positions.shape[0]\n",
    "        \n",
    "        assert len(atom_type.shape) == 1\n",
    "        assert atom_type.shape[0] == n_atoms\n",
    "\n",
    "        an_axis0 = np.repeat(atom_type[None, :], n_atoms, axis=0)\n",
    "        an_axis1 = np.repeat(atom_type[:, None], n_atoms, axis=1)\n",
    "        sigma_pairs = self.sigma_matrix[an_axis0, an_axis1]\n",
    "        epsilon_pairs = self.epsilon_matrix[an_axis0, an_axis1]\n",
    "    \n",
    "        x1 = positions[None, :, :]\n",
    "        x2 = positions[:, None, :]\n",
    "        x_diff = x2 - x1\n",
    "        rsq = np.sum(np.square(x_diff), axis=2)\n",
    "        rsq_reciprocal = np.reciprocal(rsq, out=np.zeros_like(rsq), where=(rsq != 0.0))\n",
    "\n",
    "        sigma_by_r2 = np.square(sigma_pairs) * rsq_reciprocal\n",
    "        sigma_by_r6 = np.power(sigma_by_r2, 3)\n",
    "        sigma_by_r12 = np.square(sigma_by_r6)\n",
    "        e_pairs = 4.0 * epsilon_pairs * (sigma_by_r12 - sigma_by_r6)\n",
    "        f_pairs_by_r = -24.0 * epsilon_pairs * (2 * sigma_by_r12 - sigma_by_r6) * rsq_reciprocal\n",
    "        f_pairs = f_pairs_by_r[:, :, None] * x_diff\n",
    "    \n",
    "        output_atoms = 0.5 * np.sum(e_pairs, axis=1)\n",
    "        output = float(np.sum(output_atoms).item())\n",
    "        if np.any(rsq + np.identity(rsq.shape[0]) == 0.0):  # Same position\n",
    "            output = float(\"inf\")\n",
    "        grad = 0.5 * (np.sum(f_pairs, axis=1) - np.sum(f_pairs, axis=0))\n",
    "        \n",
    "        return output, grad"
   ]
  },
  {
   "cell_type": "markdown",
   "id": "5db48c9d-67e3-4099-b859-9ea5724f67c6",
   "metadata": {},
   "source": [
    "This can be used to calculate a scalar value (energy) for an appropriate input. Below is an example calculation for a straight line configuration in 3-dimensional space."
   ]
  },
  {
   "cell_type": "code",
   "execution_count": 2,
   "id": "4cd8e5b5-38a0-4f3e-9210-909db1ca8586",
   "metadata": {},
   "outputs": [
    {
     "name": "stdout",
     "output_type": "stream",
     "text": [
      "output: -20.32051\n",
      "atom_type\n",
      "[0, 1, 2, 3, 4, 5, 6, 7, 0, 1, 2, 3, 4, 5, 6, 7, 0, 1, 2, 3, 4, 5, 6, 7, 0, 1, 2, 3, 4, 5, 6, 7, 0, 1, 2, 3, 4, 5, 6, 7, 0, 1, 2, 3, 4, 5, 6, 7, 0, 1, 2, 3, 4, 5, 6, 7, 0, 1, 2, 3, 4, 5, 6, 7]\n",
      "positions\n",
      "[[0.0, 0.0, 0.0], [3.5, 0.0, 0.0], [7.0, 0.0, 0.0], [10.5, 0.0, 0.0], [14.0, 0.0, 0.0], [17.5, 0.0, 0.0], [21.0, 0.0, 0.0], [24.5, 0.0, 0.0], [28.0, 0.0, 0.0], [31.5, 0.0, 0.0], [35.0, 0.0, 0.0], [38.5, 0.0, 0.0], [42.0, 0.0, 0.0], [45.5, 0.0, 0.0], [49.0, 0.0, 0.0], [52.5, 0.0, 0.0], [56.0, 0.0, 0.0], [59.5, 0.0, 0.0], [63.0, 0.0, 0.0], [66.5, 0.0, 0.0], [70.0, 0.0, 0.0], [73.5, 0.0, 0.0], [77.0, 0.0, 0.0], [80.5, 0.0, 0.0], [84.0, 0.0, 0.0], [87.5, 0.0, 0.0], [91.0, 0.0, 0.0], [94.5, 0.0, 0.0], [98.0, 0.0, 0.0], [101.5, 0.0, 0.0], [105.0, 0.0, 0.0], [108.5, 0.0, 0.0], [112.0, 0.0, 0.0], [115.5, 0.0, 0.0], [119.0, 0.0, 0.0], [122.5, 0.0, 0.0], [126.0, 0.0, 0.0], [129.5, 0.0, 0.0], [133.0, 0.0, 0.0], [136.5, 0.0, 0.0], [140.0, 0.0, 0.0], [143.5, 0.0, 0.0], [147.0, 0.0, 0.0], [150.5, 0.0, 0.0], [154.0, 0.0, 0.0], [157.5, 0.0, 0.0], [161.0, 0.0, 0.0], [164.5, 0.0, 0.0], [168.0, 0.0, 0.0], [171.5, 0.0, 0.0], [175.0, 0.0, 0.0], [178.5, 0.0, 0.0], [182.0, 0.0, 0.0], [185.5, 0.0, 0.0], [189.0, 0.0, 0.0], [192.5, 0.0, 0.0], [196.0, 0.0, 0.0], [199.5, 0.0, 0.0], [203.0, 0.0, 0.0], [206.5, 0.0, 0.0], [210.0, 0.0, 0.0], [213.5, 0.0, 0.0], [217.0, 0.0, 0.0], [220.5, 0.0, 0.0]]\n"
     ]
    }
   ],
   "source": [
    "atom_type = np.array([0, 1, 2, 3, 4, 5, 6, 7] * 8)\n",
    "positions = np.array([[3.5 * x, 0.0, 0.0] for x in range(64)])\n",
    "\n",
    "f = LennardJonesI22()\n",
    "f_out, _ = f.calculate(atom_type, positions)\n",
    "print(\"output: {:.5f}\".format(f_out))\n",
    "\n",
    "print(\"atom_type\")\n",
    "print(atom_type.tolist())\n",
    "print(\"positions\")\n",
    "print(positions.tolist())"
   ]
  },
  {
   "cell_type": "markdown",
   "id": "c9e28fd0-84d2-4d8f-b822-3a4f97944f4e",
   "metadata": {},
   "source": [
    "## What to submit\n",
    "\n",
    "Please submit a report (no more than one sheet of A4 paper in PDF format, or a little over a sheet if you cannot write on one sheet) describing the results (input pairs and their scores) and how you thought about them, as well as the source code of the program used to run the simulation. You may use the distributed Jupyter Notebook as-is for your program, or you may use a different format.\n",
    "\n",
    "For this assignment, you do not need to spend a lot of time and work down to the very last minute on your score. Instead, please consider readability when writing your program. Also, be sure to write in your report what you have considered in your optimization.\n",
    "\n",
    "## Supplementary: How to solve\n",
    "\n",
    "You are free to solve in any way you like. You may use various gradient methods or optimization functions from neural network libraries such as PyTorch using derivative values, or you may consider it a black box optimization problem and use a black box optimization library such as Optuna.\n",
    "\n",
    "Those with knowledge of atomic simulation may also use various optimization methods in molecular dynamics calculations, such as MCMC and annealing methods, to solve the problem. Below is an example calculation using the Python atomic simulation library ASE. (You need to install ASE in your environment, e.g. `pip install ase`)."
   ]
  },
  {
   "cell_type": "code",
   "execution_count": 3,
   "id": "f222d4c6-7402-462a-8839-8a6847bd5555",
   "metadata": {},
   "outputs": [
    {
     "name": "stdout",
     "output_type": "stream",
     "text": [
      "output: -26.69947\n"
     ]
    }
   ],
   "source": [
    "import numpy as np\n",
    "import ase\n",
    "import ase.optimize\n",
    "from ase.calculators.calculator import Calculator, all_changes\n",
    "\n",
    "\n",
    "class LennardJonesI22Calculator(Calculator):\n",
    "    implemented_properties = ['energy', 'forces', 'free_energy']\n",
    "    \n",
    "    def __init__(self, **kwargs):\n",
    "        Calculator.__init__(self, **kwargs)\n",
    "        self.lj_core = LennardJonesI22()\n",
    "        \n",
    "    def calculate(self, atoms=None, properties=None, system_changes=all_changes):\n",
    "        if properties is None:\n",
    "            properties = self.implemented_properties\n",
    "\n",
    "        Calculator.calculate(self, atoms, properties, system_changes)\n",
    "        e_total, f_atoms = self.lj_core.calculate(atoms.get_atomic_numbers(), atoms.get_positions())\n",
    "        self.results[\"energy\"] = e_total\n",
    "        self.results[\"free_energy\"] = e_total\n",
    "        self.results[\"forces\"] = -f_atoms\n",
    "        \n",
    "\n",
    "def run_ase():\n",
    "    calculator = LennardJonesI22Calculator()\n",
    "\n",
    "    atomic_numbers = np.array([0, 1, 2, 3, 4, 5, 6, 7] * 8)\n",
    "    positions = np.array([[3.5 * x, 0.0, 0.0] for x in range(len(atomic_numbers))])\n",
    "\n",
    "    atoms = ase.Atoms(numbers=atomic_numbers, positions=positions)\n",
    "    atoms.calc = calculator\n",
    "\n",
    "    opt = ase.optimize.BFGS(atoms, logfile=None)\n",
    "    opt.run(fmax=0.001)\n",
    "    \n",
    "    print(\"output: {:.5f}\".format(atoms.get_potential_energy()))\n",
    "\n",
    "    \n",
    "run_ase()"
   ]
  },
  {
   "cell_type": "markdown",
   "id": "53aa7c5f-68fb-49fc-978d-bf5cf22c0ea9",
   "metadata": {},
   "source": [
    "## Supplementary: Detailed Function Forms\n",
    "\n",
    "The following information is not necessary to solve the problem, but is provided for those who want to know what is inside. If there is a mistake in the following description, please assume the above implementation is correct.\n",
    "\n",
    "The Lennard-Jones potential is two-body potential expressed in the following form when the interatomic distance is r.\n",
    "\n",
    "$$\n",
    "U(r)=4\\epsilon \\left\\{\\left(\\frac{\\sigma}{r}\\right)^{12}-\\left(\\frac{\\sigma}{r}\\right)^{6}\\right\\}\n",
    "$$\n",
    "\n",
    "ε and σ are constants. The first term in parentheses is the repulsive force proportional to the -12th power of the distance and the second term is the attractive force proportional to the -6th power of the distance. ε is a constant for the strength of the bond and σ is a constant for the distance scale.\n",
    "\n",
    "The behavior of the function is that it diverges to infinity when r asymptotes to zero, and it asymptotes to zero at the infinity of r. Differentiation shows that it reaches a minimum approximately where r is 1.12 times σ.\n",
    "\n",
    "The values of ε and σ are determined by the type of atoms (=labels of points) on both sides. In this case, we have given them explicitly as follows.\n",
    "\n",
    "```\n",
    "sigma_single = np.array([2.0 + 0.2 * x for x in range(8)])\n",
    "epsilon_single = np.array([0.1 + 0.1 * x for x in range(8)])\n",
    "\n",
    "self.sigma_matrix = 0.5 * (sigma_single[None, :] + sigma_single[:, None])\n",
    "self.epsilon_matrix = np.sqrt(epsilon_single[None, :] * epsilon_single[:, None])\n",
    "\n",
    "```\n",
    "\n",
    "The top two lines determine ε and σ between same atom types. The ε and σ between different atom types are synergistically averaged for ε and additively averaged for σ. This way of determining the parameters for different types of atoms is called the Lorentz-Berthelot rule in the Lennard-Jones potential."
   ]
  }
 ],
 "metadata": {
  "kernelspec": {
   "display_name": "Python 3.7",
   "language": "python",
   "name": "python37"
  },
  "language_info": {
   "codemirror_mode": {
    "name": "ipython",
    "version": 3
   },
   "file_extension": ".py",
   "mimetype": "text/x-python",
   "name": "python",
   "nbconvert_exporter": "python",
   "pygments_lexer": "ipython3",
   "version": "3.7.13"
  }
 },
 "nbformat": 4,
 "nbformat_minor": 5
}
