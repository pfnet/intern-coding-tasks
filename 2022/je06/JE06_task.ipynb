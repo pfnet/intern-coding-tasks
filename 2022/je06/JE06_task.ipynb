{
 "cells": [
  {
   "cell_type": "markdown",
   "id": "f65d2be4-887f-44b1-9ce8-2c82299fb8d6",
   "metadata": {},
   "source": [
    "# PFN Internship 2022 \"JE06. Matlantis向けの物性値計算アルゴリズムの開発\" レポート課題\n",
    "\n",
    "以下の最適化問題について考えてもらいます。この問題はPythonで書かれています。\n",
    "\n",
    "なお、もし本課題よりも\"JE19. 材料に関する機械学習や原子シミュレーションの開発・応用研究\"の課題のほうが取り組みやすいと感じた場合は、そちらの課題への解答で代替することも認めます。\n",
    "\n",
    "## 問題設定\n",
    "\n",
    "3次元空間中に64個のラベルづけされた点を配置します。点の位置は重なることはないものとします。ラベルは整数で、0から7までの値を持つ点がそれぞれ8個ずつあります。この点の集合に対してスカラー値を返すような関数を考えます。このとき、返り値がなるべく小さくなるような点の配置を考えてください。\n",
    "\n",
    "この課題は、原子構造を推定する問題を模しています。点を原子、スカラー値をエネルギーとみなすことで、エネルギーが低く安定となるような原子配置を考える問題とみなすことができます。\n",
    "\n",
    "## 関数について\n",
    "\n",
    "関数の具体的な形を以下に`LennardJonesI22`クラスの`calculate`関数として提供します。詳細については後述しますが、ここではブラックボックス的な関数とみなしてしまっても構いません。\n",
    "\n",
    "引数として、点のラベルに相当する`atom_type` (64次元、整数)と点の座標に相当する`positions` (64x3次元、浮動小数点数)をとります。出力にはスカラー値の`output`と、`output`の座標に対する微分値の`grad`の組を出力します。微分値は特に使わなくても結構です。\n",
    "\n",
    "これはいわゆるLennard-Jonesポテンシャルとして知られているものです。すべての点の組み合わせに対して、2点間の距離と2つの点のラベルを引数として定義される関数(2体間関数)の返り値の和となっています。\n",
    "\n",
    "2体間関数は、距離が十分離れているときは0に漸近します。距離が一定まで近づく範囲では値が下がり、それ以上近づくと値が急激に上昇する振る舞いをします。そのため、それぞれの点をある程度の安定距離をとって配置するのが良い解になります。安定距離は2から4の間くらいです。\n"
   ]
  },
  {
   "cell_type": "code",
   "execution_count": 1,
   "id": "54c98d62-1afd-47e5-a4d4-5dcd04335546",
   "metadata": {},
   "outputs": [],
   "source": [
    "from typing import Tuple\n",
    "\n",
    "import numpy as np\n",
    "\n",
    "\n",
    "class LennardJonesI22:\n",
    "    def __init__(self):\n",
    "        sigma_single = np.array([2.0 + 0.2 * x for x in range(8)])\n",
    "        epsilon_single = np.array([0.1 + 0.1 * x for x in range(8)])\n",
    "\n",
    "        self.sigma_matrix = 0.5 * (sigma_single[None, :] + sigma_single[:, None])\n",
    "        self.epsilon_matrix = np.sqrt(epsilon_single[None, :] * epsilon_single[:, None])\n",
    "\n",
    "    def calculate(self, atom_type: np.ndarray, positions: np.ndarray) -> Tuple[float, np.ndarray]:\n",
    "        assert len(positions.shape) == 2\n",
    "        assert positions.shape[1] == 3\n",
    "        n_atoms = positions.shape[0]\n",
    "        \n",
    "        assert len(atom_type.shape) == 1\n",
    "        assert atom_type.shape[0] == n_atoms\n",
    "\n",
    "        an_axis0 = np.repeat(atom_type[None, :], n_atoms, axis=0)\n",
    "        an_axis1 = np.repeat(atom_type[:, None], n_atoms, axis=1)\n",
    "        sigma_pairs = self.sigma_matrix[an_axis0, an_axis1]\n",
    "        epsilon_pairs = self.epsilon_matrix[an_axis0, an_axis1]\n",
    "    \n",
    "        x1 = positions[None, :, :]\n",
    "        x2 = positions[:, None, :]\n",
    "        x_diff = x2 - x1\n",
    "        rsq = np.sum(np.square(x_diff), axis=2)\n",
    "        rsq_reciprocal = np.reciprocal(rsq, out=np.zeros_like(rsq), where=(rsq != 0.0))\n",
    "\n",
    "        sigma_by_r2 = np.square(sigma_pairs) * rsq_reciprocal\n",
    "        sigma_by_r6 = np.power(sigma_by_r2, 3)\n",
    "        sigma_by_r12 = np.square(sigma_by_r6)\n",
    "        e_pairs = 4.0 * epsilon_pairs * (sigma_by_r12 - sigma_by_r6)\n",
    "        f_pairs_by_r = -24.0 * epsilon_pairs * (2 * sigma_by_r12 - sigma_by_r6) * rsq_reciprocal\n",
    "        f_pairs = f_pairs_by_r[:, :, None] * x_diff\n",
    "    \n",
    "        output_atoms = 0.5 * np.sum(e_pairs, axis=1)\n",
    "        output = float(np.sum(output_atoms).item())\n",
    "        if np.any(rsq + np.identity(rsq.shape[0]) == 0.0):  # Same position\n",
    "            output = float(\"inf\")\n",
    "        grad = 0.5 * (np.sum(f_pairs, axis=1) - np.sum(f_pairs, axis=0))\n",
    "        \n",
    "        return output, grad"
   ]
  },
  {
   "cell_type": "markdown",
   "id": "5db48c9d-67e3-4099-b859-9ea5724f67c6",
   "metadata": {},
   "source": [
    "これを使って、適当な入力に対してスカラー値(エネルギー)を計算することができます。以下は3次元空間に一直線に並べたときの計算例です。"
   ]
  },
  {
   "cell_type": "code",
   "execution_count": 2,
   "id": "4cd8e5b5-38a0-4f3e-9210-909db1ca8586",
   "metadata": {},
   "outputs": [
    {
     "name": "stdout",
     "output_type": "stream",
     "text": [
      "output: -20.32051\n",
      "atom_type\n",
      "[0, 1, 2, 3, 4, 5, 6, 7, 0, 1, 2, 3, 4, 5, 6, 7, 0, 1, 2, 3, 4, 5, 6, 7, 0, 1, 2, 3, 4, 5, 6, 7, 0, 1, 2, 3, 4, 5, 6, 7, 0, 1, 2, 3, 4, 5, 6, 7, 0, 1, 2, 3, 4, 5, 6, 7, 0, 1, 2, 3, 4, 5, 6, 7]\n",
      "positions\n",
      "[[0.0, 0.0, 0.0], [3.5, 0.0, 0.0], [7.0, 0.0, 0.0], [10.5, 0.0, 0.0], [14.0, 0.0, 0.0], [17.5, 0.0, 0.0], [21.0, 0.0, 0.0], [24.5, 0.0, 0.0], [28.0, 0.0, 0.0], [31.5, 0.0, 0.0], [35.0, 0.0, 0.0], [38.5, 0.0, 0.0], [42.0, 0.0, 0.0], [45.5, 0.0, 0.0], [49.0, 0.0, 0.0], [52.5, 0.0, 0.0], [56.0, 0.0, 0.0], [59.5, 0.0, 0.0], [63.0, 0.0, 0.0], [66.5, 0.0, 0.0], [70.0, 0.0, 0.0], [73.5, 0.0, 0.0], [77.0, 0.0, 0.0], [80.5, 0.0, 0.0], [84.0, 0.0, 0.0], [87.5, 0.0, 0.0], [91.0, 0.0, 0.0], [94.5, 0.0, 0.0], [98.0, 0.0, 0.0], [101.5, 0.0, 0.0], [105.0, 0.0, 0.0], [108.5, 0.0, 0.0], [112.0, 0.0, 0.0], [115.5, 0.0, 0.0], [119.0, 0.0, 0.0], [122.5, 0.0, 0.0], [126.0, 0.0, 0.0], [129.5, 0.0, 0.0], [133.0, 0.0, 0.0], [136.5, 0.0, 0.0], [140.0, 0.0, 0.0], [143.5, 0.0, 0.0], [147.0, 0.0, 0.0], [150.5, 0.0, 0.0], [154.0, 0.0, 0.0], [157.5, 0.0, 0.0], [161.0, 0.0, 0.0], [164.5, 0.0, 0.0], [168.0, 0.0, 0.0], [171.5, 0.0, 0.0], [175.0, 0.0, 0.0], [178.5, 0.0, 0.0], [182.0, 0.0, 0.0], [185.5, 0.0, 0.0], [189.0, 0.0, 0.0], [192.5, 0.0, 0.0], [196.0, 0.0, 0.0], [199.5, 0.0, 0.0], [203.0, 0.0, 0.0], [206.5, 0.0, 0.0], [210.0, 0.0, 0.0], [213.5, 0.0, 0.0], [217.0, 0.0, 0.0], [220.5, 0.0, 0.0]]\n"
     ]
    }
   ],
   "source": [
    "atom_type = np.array([0, 1, 2, 3, 4, 5, 6, 7] * 8)\n",
    "positions = np.array([[3.5 * x, 0.0, 0.0] for x in range(64)])\n",
    "\n",
    "f = LennardJonesI22()\n",
    "f_out, _ = f.calculate(atom_type, positions)\n",
    "print(\"output: {:.5f}\".format(f_out))\n",
    "\n",
    "print(\"atom_type\")\n",
    "print(atom_type.tolist())\n",
    "print(\"positions\")\n",
    "print(positions.tolist())"
   ]
  },
  {
   "cell_type": "markdown",
   "id": "c9e28fd0-84d2-4d8f-b822-3a4f97944f4e",
   "metadata": {},
   "source": [
    "## 解答方法\n",
    "\n",
    "結果(入力の組とそのときのスコア)とどのような考え方をしたかを記したレポート(PDFでA4用紙1枚以下程度、1枚に書き切れない場合は多少オーバーしても構いません)と実行に使ったプログラムのソースコードの2点を提出してください。プログラムは配布のJupyter Notebookをそのまま使っても問題ありませんが、別の形式でも構いません。\n",
    "\n",
    "この課題では、長い時間をかけてスコアをぎりぎりまで詰める必要はありません。その代わり、見通しのよいプログラムを心がけてください。また、レポートではどのようなことを考えて最適化を行ったのかを書くようにしてください。\n",
    "\n",
    "## 補足: 解き方について\n",
    "\n",
    "解き方は自由です。微分値があることから様々な勾配法、あるいはPyTorchなどのニューラルネットワークライブラリの最適化関数などを使ってもよいですし、ブラックボックス最適化問題とみなしてOptunaなどのブラックボックス最適化ライブラリを使うのも構いません。\n",
    "\n",
    "また、原子シミュレーションの知識のある人は、分子動力学計算における各種最適化手法、MCMC法や焼きなまし法などを使って解いても構いません。以下にPythonの原子シミュレーションライブラリASEを使った計算例を示します。(環境へのASEのインストール(`pip install ase`など)が必要です。)\n"
   ]
  },
  {
   "cell_type": "code",
   "execution_count": 3,
   "id": "f222d4c6-7402-462a-8839-8a6847bd5555",
   "metadata": {},
   "outputs": [
    {
     "name": "stdout",
     "output_type": "stream",
     "text": [
      "output: -26.69947\n"
     ]
    }
   ],
   "source": [
    "import numpy as np\n",
    "import ase\n",
    "import ase.optimize\n",
    "from ase.calculators.calculator import Calculator, all_changes\n",
    "\n",
    "\n",
    "class LennardJonesI22Calculator(Calculator):\n",
    "    implemented_properties = ['energy', 'forces', 'free_energy']\n",
    "    \n",
    "    def __init__(self, **kwargs):\n",
    "        Calculator.__init__(self, **kwargs)\n",
    "        self.lj_core = LennardJonesI22()\n",
    "        \n",
    "    def calculate(self, atoms=None, properties=None, system_changes=all_changes):\n",
    "        if properties is None:\n",
    "            properties = self.implemented_properties\n",
    "\n",
    "        Calculator.calculate(self, atoms, properties, system_changes)\n",
    "        e_total, f_atoms = self.lj_core.calculate(atoms.get_atomic_numbers(), atoms.get_positions())\n",
    "        self.results[\"energy\"] = e_total\n",
    "        self.results[\"free_energy\"] = e_total\n",
    "        self.results[\"forces\"] = -f_atoms\n",
    "        \n",
    "\n",
    "def run_ase():\n",
    "    calculator = LennardJonesI22Calculator()\n",
    "\n",
    "    atomic_numbers = np.array([0, 1, 2, 3, 4, 5, 6, 7] * 8)\n",
    "    positions = np.array([[3.5 * x, 0.0, 0.0] for x in range(len(atomic_numbers))])\n",
    "\n",
    "    atoms = ase.Atoms(numbers=atomic_numbers, positions=positions)\n",
    "    atoms.calc = calculator\n",
    "\n",
    "    opt = ase.optimize.BFGS(atoms, logfile=None)\n",
    "    opt.run(fmax=0.001)\n",
    "    \n",
    "    print(\"output: {:.5f}\".format(atoms.get_potential_energy()))\n",
    "\n",
    "    \n",
    "run_ase()"
   ]
  },
  {
   "cell_type": "markdown",
   "id": "53aa7c5f-68fb-49fc-978d-bf5cf22c0ea9",
   "metadata": {},
   "source": [
    "## 補足: 関数の詳細な形\n",
    "\n",
    "以下は問題を解くのに必ずしも必要のない情報ですが、中身を知りたい人向けの説明です。もし以下の説明文に間違いがあった場合、実装のほうを正解としてください。\n",
    "\n",
    "Lennard-Jonesポテンシャルは、原子間距離をrとしたときに以下の形で表現される2体間ポテンシャルです。\n",
    "\n",
    "$$\n",
    "U(r)=4\\epsilon \\left\\{\\left(\\frac{\\sigma}{r}\\right)^{12}-\\left(\\frac{\\sigma}{r}\\right)^{6}\\right\\}\n",
    "$$\n",
    "\n",
    "εとσは定数です。かっこ内の第1項が距離の-12乗に比例する反発力、第2項が距離の-6乗に比例する吸引力となっています。εは結合の強さを表す定数、σは距離のスケールを表す定数です。\n",
    "\n",
    "関数の振る舞いとして、rが0に漸近すると無限大に発散し、rの無限遠では0に漸近します。微分するとわかりますが、おおよそrがσの1.12倍程度のところで最小値をとります。\n",
    "\n",
    "εとσは両側の原子の種類(=点のラベル)により決まるものです。今回は以下のように明示的に与えてしまっています。\n",
    "\n",
    "```\n",
    "sigma_single = np.array([2.0 + 0.2 * x for x in range(8)])\n",
    "epsilon_single = np.array([0.1 + 0.1 * x for x in range(8)])\n",
    "\n",
    "self.sigma_matrix = 0.5 * (sigma_single[None, :] + sigma_single[:, None])\n",
    "self.epsilon_matrix = np.sqrt(epsilon_single[None, :] * epsilon_single[:, None])\n",
    "\n",
    "```\n",
    "\n",
    "上の2行は同種原子の間でのεとσを決めています。別種原子の間でのεとσは、εについては相乗平均を、σについては相加平均をとっています。問題設定としては値が一意に決まっていればよいだけのものですが、このような別種原子のパラメータの決め方はLennard-JonesポテンシャルではLorentz-Berthelot rulesと呼ばれています。"
   ]
  }
 ],
 "metadata": {
  "kernelspec": {
   "display_name": "Python 3.7",
   "language": "python",
   "name": "python37"
  },
  "language_info": {
   "codemirror_mode": {
    "name": "ipython",
    "version": 3
   },
   "file_extension": ".py",
   "mimetype": "text/x-python",
   "name": "python",
   "nbconvert_exporter": "python",
   "pygments_lexer": "ipython3",
   "version": "3.7.13"
  }
 },
 "nbformat": 4,
 "nbformat_minor": 5
}
