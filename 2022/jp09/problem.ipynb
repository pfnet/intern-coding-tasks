{
 "cells": [
  {
   "cell_type": "code",
   "execution_count": 1,
   "metadata": {},
   "outputs": [],
   "source": [
    "%matplotlib inline"
   ]
  },
  {
   "cell_type": "markdown",
   "metadata": {},
   "source": [
    "# PFN2022 夏季国内インターン テーマ別課題【工学応用】\n",
    "\n",
    "与えられたデータセットを用いて、２次元空間上の単調な関数を予測する機械学習モデルを作成してください。以下の指示に従ってこの notebook に説明や実装などを追加し、編集した notebook (.ipynb ファイル) をレポートとして提出してください。\n",
    "\n",
    "Notebook には Python コードとその出力だけではなく、Markdown テキストを含めることができます。解答にあたっては、思考の過程がわかるように、適切にテキストやコメントを挿入してください。その際、解答にあたって参考にした文献は適切に引用してください。\n",
    "解答欄のセルは必要に応じて挿入・追加して構いません。\n",
    "\n",
    "## 問題\n",
    "\n",
    "あるグルメレビューサイトでは、様々なレストランを検索したり、そのレストランに関する評価やレビューコメントをつけたりすることができます。\n",
    "\n",
    "ユーザがレストランを検索したとき、検索結果として表示されたそれぞれのレストランのリンクをクリックする確率を推定してください。\n",
    "\n",
    "### データセット\n",
    "\n",
    "本課題では、上記の状況を想定して、人工的に生成したデータセットを用います。つぎの３つの CSV ファイルを提供します。\n",
    "\n",
    "- `train.csv` - 訓練データ。\n",
    "- `valid.csv` - 検証データ。\n",
    "- `test.csv` - テストデータ。\n",
    "\n",
    "訓練データ・検証データは、ユーザの過去の行動に基づき、検索結果として表示されやすい (ユーザーに好まれやすい) レストランが多くサンプルされています。訓練・検証データは、事前に入手されたものとして、自由に分析したり、機械学習モデルの訓練に用いたりして構いません。\n",
    "\n",
    "本課題では、機械学習モデルを実際に適用した場面を想定した評価まで行うために、テストデータも合わせて提供します。\n",
    "ユーザーに必ずしも好まれないレストランを含む、様々なレストランで評価するために、テストデータはユーザの好みに依らない方法でサンプルされています。\n",
    "\n",
    "それぞれの CSV ファイルは、アクセスに対して表示されたレストランに関する情報が格納されています。\n",
    "各行は、あるアクセスで表示されたあるレストランについての情報を表します。\n",
    "検索アクセス単位のデータであるため、同一のレストランが複数行に渡って出現することがあります。\n",
    "また、CSV ファイルにはつぎの 3 つのカラムがあります。\n",
    "\n",
    "- `avg_rating` - レストランの平均評価 (Average Rating)\n",
    "- `num_reviews` - レストランについているレビューの件数 (Number of Reviews)\n",
    "- `clicked` - あるアクセスに対してそのレストランがクリックされたかどうか\n",
    "\n",
    "それぞれの行に対して、`avg_rating` と `num_reviews` から `clicked` を予測します。\n",
    "\n",
    "機械学習を応用する一般的な状況では、テストデータが与えられなかったり、テストデータに関する予測対象の値 (正解) が与えられないことが通常です。\n",
    "テストデータのうち、`avg_rating` と `num_reviews` (予測の入力) は、事前に入手されたものとして自由に分析して構いませんが、`clicked` カラム (予測対象) を直接観察・分析したり、機械学習の訓練に利用してはいけません。\n",
    "\n",
    "### 予測の評価\n",
    "\n",
    "本問題で扱うタスクは `clicked` が 0 と 1 のどちらであるかを推定する二値分類問題です。\n",
    "予測性能は、二値分類の評価に一般的に用いられる指標の一つである、受信者動作特性曲線 (receiver operating characteristic curve, ROC) の曲線下面積 (area under the curve, AUC) を用いて評価してください。\n",
    "\n",
    "ROC AUC は、たとえば scikit-learn の [sklearn.metrics.roc_auc_score](https://scikit-learn.org/stable/modules/generated/sklearn.metrics.roc_auc_score.html) を用いて計算できます。\n",
    "\n",
    "### notebook の実行環境\n",
    "\n",
    "本課題で扱うデータとモデルは十分軽量であり、GPU などの高性能な計算デバイスを用いなくても十分遂行可能と思われます。\n",
    "\n",
    "提出された notebook は Python 3.9 環境で動作確認と評価を行います。\n",
    "\n",
    "この notebook ではデフォルトで numpy、pandas、pytorch、scikit-learn を import しています。\n",
    "解答上の必要に応じてその他のライブラリをさらに import することは差し支えありません。\n",
    "その際、どのようなライブラリを選択・利用したかについても評価の対象となります。"
   ]
  },
  {
   "cell_type": "code",
   "execution_count": 2,
   "metadata": {},
   "outputs": [],
   "source": [
    "import numpy as np\n",
    "import pandas as pd\n",
    "import sklearn\n",
    "import torch"
   ]
  },
  {
   "cell_type": "markdown",
   "metadata": {},
   "source": [
    "## 問1\n",
    "\n",
    "二値分類の評価に用いられる [ROC](https://scikit-learn.org/stable/modules/model_evaluation.html#roc-metrics) とはどのような曲線か、次の点を説明してください。\n",
    "\n",
    "- 横軸と縦軸の意味\n",
    "- プロットの方法\n",
    "- AUC の値の解釈方法"
   ]
  },
  {
   "cell_type": "markdown",
   "metadata": {},
   "source": [
    "【問1の解答はここに Markdown テキストで記入してください】"
   ]
  },
  {
   "cell_type": "markdown",
   "metadata": {},
   "source": [
    "## 問2\n",
    "\n",
    "それではデータセットのファイルを開き、データの観察から始めましょう。まずは Pandas を用いて３つの CSV ファイルを開きます。"
   ]
  },
  {
   "cell_type": "code",
   "execution_count": 3,
   "metadata": {},
   "outputs": [],
   "source": [
    "data_train = pd.read_csv(\"train.csv\")\n",
    "data_valid = pd.read_csv(\"valid.csv\")\n",
    "data_test = pd.read_csv(\"test.csv\")"
   ]
  },
  {
   "cell_type": "markdown",
   "metadata": {},
   "source": [
    "たとえば訓練データは次のようなテーブル形式になっていることがわかります。"
   ]
  },
  {
   "cell_type": "code",
   "execution_count": 4,
   "metadata": {},
   "outputs": [
    {
     "data": {
      "text/html": [
       "<div>\n",
       "<style scoped>\n",
       "    .dataframe tbody tr th:only-of-type {\n",
       "        vertical-align: middle;\n",
       "    }\n",
       "\n",
       "    .dataframe tbody tr th {\n",
       "        vertical-align: top;\n",
       "    }\n",
       "\n",
       "    .dataframe thead th {\n",
       "        text-align: right;\n",
       "    }\n",
       "</style>\n",
       "<table border=\"1\" class=\"dataframe\">\n",
       "  <thead>\n",
       "    <tr style=\"text-align: right;\">\n",
       "      <th></th>\n",
       "      <th>avg_rating</th>\n",
       "      <th>num_reviews</th>\n",
       "      <th>clicked</th>\n",
       "    </tr>\n",
       "  </thead>\n",
       "  <tbody>\n",
       "    <tr>\n",
       "      <th>0</th>\n",
       "      <td>2.547957</td>\n",
       "      <td>19.0</td>\n",
       "      <td>1</td>\n",
       "    </tr>\n",
       "    <tr>\n",
       "      <th>1</th>\n",
       "      <td>3.870380</td>\n",
       "      <td>174.0</td>\n",
       "      <td>1</td>\n",
       "    </tr>\n",
       "    <tr>\n",
       "      <th>2</th>\n",
       "      <td>3.870380</td>\n",
       "      <td>174.0</td>\n",
       "      <td>0</td>\n",
       "    </tr>\n",
       "    <tr>\n",
       "      <th>3</th>\n",
       "      <td>3.870380</td>\n",
       "      <td>174.0</td>\n",
       "      <td>1</td>\n",
       "    </tr>\n",
       "    <tr>\n",
       "      <th>4</th>\n",
       "      <td>3.870380</td>\n",
       "      <td>174.0</td>\n",
       "      <td>0</td>\n",
       "    </tr>\n",
       "    <tr>\n",
       "      <th>...</th>\n",
       "      <td>...</td>\n",
       "      <td>...</td>\n",
       "      <td>...</td>\n",
       "    </tr>\n",
       "    <tr>\n",
       "      <th>231</th>\n",
       "      <td>1.586990</td>\n",
       "      <td>51.0</td>\n",
       "      <td>1</td>\n",
       "    </tr>\n",
       "    <tr>\n",
       "      <th>232</th>\n",
       "      <td>1.586990</td>\n",
       "      <td>51.0</td>\n",
       "      <td>1</td>\n",
       "    </tr>\n",
       "    <tr>\n",
       "      <th>233</th>\n",
       "      <td>2.980449</td>\n",
       "      <td>138.0</td>\n",
       "      <td>0</td>\n",
       "    </tr>\n",
       "    <tr>\n",
       "      <th>234</th>\n",
       "      <td>3.540500</td>\n",
       "      <td>129.0</td>\n",
       "      <td>1</td>\n",
       "    </tr>\n",
       "    <tr>\n",
       "      <th>235</th>\n",
       "      <td>2.129712</td>\n",
       "      <td>64.0</td>\n",
       "      <td>1</td>\n",
       "    </tr>\n",
       "  </tbody>\n",
       "</table>\n",
       "<p>236 rows × 3 columns</p>\n",
       "</div>"
      ],
      "text/plain": [
       "     avg_rating  num_reviews  clicked\n",
       "0      2.547957         19.0        1\n",
       "1      3.870380        174.0        1\n",
       "2      3.870380        174.0        0\n",
       "3      3.870380        174.0        1\n",
       "4      3.870380        174.0        0\n",
       "..          ...          ...      ...\n",
       "231    1.586990         51.0        1\n",
       "232    1.586990         51.0        1\n",
       "233    2.980449        138.0        0\n",
       "234    3.540500        129.0        1\n",
       "235    2.129712         64.0        1\n",
       "\n",
       "[236 rows x 3 columns]"
      ]
     },
     "execution_count": 4,
     "metadata": {},
     "output_type": "execute_result"
    }
   ],
   "source": [
    "data_train"
   ]
  },
  {
   "cell_type": "markdown",
   "metadata": {},
   "source": [
    "以下の分析では `data_test` (テストデータ) の `clicked` カラム (予測対象) を用いてはいけません。\n",
    "\n",
    "### 問2-1\n",
    "\n",
    "`data_train`、`data_valid`、`data_test` の3つのデータセットについて、`avg_rating` と `num_reviews` の分布を可視化してください。"
   ]
  },
  {
   "cell_type": "code",
   "execution_count": null,
   "metadata": {},
   "outputs": [],
   "source": [
    "# 【このセルを用いて可視化してください】"
   ]
  },
  {
   "cell_type": "markdown",
   "metadata": {},
   "source": [
    "### 問2-2\n",
    "\n",
    "データの分布を可視化した図を観察し、データの統計的性質について議論してください。\n",
    "また、機械学習モデルの訓練・検証・テストにおいて予想される課題あるいは注意点を説明してください。"
   ]
  },
  {
   "cell_type": "markdown",
   "metadata": {},
   "source": [
    "【問2-2の解答はここに Markdown テキストで記入してください】"
   ]
  },
  {
   "cell_type": "markdown",
   "metadata": {},
   "source": [
    "## 問3\n",
    "\n",
    "`clicked` を予測する機械学習モデルを一つ作成してみましょう。この問で作成するモデルを以下 Baseline モデルとよびます。\n",
    "\n",
    "つぎの仕様に従う Baseline モデルを実装・訓練・評価しましょう。\n",
    "\n",
    "- 使用する機械学習モデルは多層パーセプトロン (multi layer perceptron, MLP) とする。\n",
    "- Baseline は次の構造をもつ 4 層 MLP とする。いずれの層も全結合層である。\n",
    "    - 入力層: 2 次元 (`avg_rating` および `num_reviews` に相当)\n",
    "    - 隠れ層#1: 16 次元\n",
    "    - 隠れ層#2: 8 次元\n",
    "    - 隠れ層#3: 8 次元\n",
    "    - 出力層: 1 次元 (`clicked` に相当)\n",
    "- Baseline の隠れ層で用いる活性化関数はすべて正規化線形関数 (rectified linear unit, ReLU) とする。\n",
    "- Baseline の実装には [Pytorch](https://pytorch.org/docs/stable/index.html) を用いること。\n",
    "\n",
    "### 問3-1\n",
    "\n",
    "上記仕様に従う Baseline を Python のクラスとして実装してください。\n",
    "\n",
    "以下に Pytorch で実装するテンプレートを示します。足りない部分を補って実装を完成させてください。"
   ]
  },
  {
   "cell_type": "code",
   "execution_count": null,
   "metadata": {},
   "outputs": [],
   "source": [
    "from torch import nn, Tensor\n",
    "\n",
    "class Baseline(nn.Module):\n",
    "    def __init__(self) -> None:\n",
    "        super().__init__()\n",
    "\n",
    "        # TODO: ここに実装を追加してください\n",
    "\n",
    "    def forward(self, x: Tensor) -> None:\n",
    "        # x: Tensor of shape (B, 2)\n",
    "        batch_size = x.shape[0]\n",
    "        assert x.shape == (batch_size, 2)\n",
    "\n",
    "        # TODO: ここに実装を追加してください\n",
    "\n",
    "        # output: Tensor of shape (B, 1)\n",
    "        assert output.shape == (batch_size, 1)\n",
    "        return output"
   ]
  },
  {
   "cell_type": "markdown",
   "metadata": {},
   "source": [
    "### 問3-2\n",
    "\n",
    "Baseline を二値分類器として訓練するための損失関数を実装してください。\n",
    "\n",
    "以下に Pytorch で実装するテンプレートを示します。足りない部分を補って実装を完成させてください。"
   ]
  },
  {
   "cell_type": "code",
   "execution_count": null,
   "metadata": {},
   "outputs": [],
   "source": [
    "def loss_fn(model: Baseline, x: Tensor, y: Tensor) -> Tensor:\n",
    "    # x: Tensor of shape (B, 2)\n",
    "    # y: Tensor of shape (B, )\n",
    "    batch_size = x.shape[0]\n",
    "    assert x.shape == (batch_size, 2)\n",
    "    assert y.shape == (batch_size,)\n",
    "\n",
    "    # TODO: ここに実装を追加してください\n",
    "\n",
    "    # loss: Tensor of shape (1,) or 0-dim tensor\n",
    "    return loss"
   ]
  },
  {
   "cell_type": "markdown",
   "metadata": {},
   "source": [
    "### 問3-3\n",
    "\n",
    "Baseline を用いて、バッチ入力に対する `clicked` の確率を予測する関数を実装してください。\n",
    "\n",
    "以下に Pytorch で実装するテンプレートを示します。足りない部分を補って実装を完成させてください。"
   ]
  },
  {
   "cell_type": "code",
   "execution_count": null,
   "metadata": {},
   "outputs": [],
   "source": [
    "def predict(model: Baseline, x: Tensor) -> Tensor:\n",
    "    # x: Tensor of shape (B, 2)\n",
    "    batch_size = x.shape[0]\n",
    "    assert x.shape == (batch_size, 2)\n",
    "\n",
    "    # TODO: ここに実装を追加してください\n",
    "\n",
    "    # output: Tensor of shape (B, 1)\n",
    "    assert prediction.shape == (batch_size, 1)\n",
    "    return prediction"
   ]
  },
  {
   "cell_type": "markdown",
   "metadata": {},
   "source": [
    "### 問3-4\n",
    "\n",
    "Baseline を訓練・検証するための関数を実装してください。\n",
    "\n",
    "以下に Pytorch で実装するテンプレートを示します。足りない部分を補って実装を完成させてください。"
   ]
  },
  {
   "cell_type": "code",
   "execution_count": null,
   "metadata": {},
   "outputs": [],
   "source": [
    "from typing import Literal\n",
    "\n",
    "from torch.optim import Optimizer\n",
    "from torch.utils.data import DataLoader\n",
    "\n",
    "def train(\n",
    "    model: Baseline,\n",
    "    device: Literal[\"cpu\", \"cuda\"],\n",
    "    train_loader: DataLoader,\n",
    "    optimizer: Optimizer,\n",
    ") -> float:\n",
    "    model.train()\n",
    "    loss_sum = 0\n",
    "    for x, y in train_loader:\n",
    "        x, y = x.to(device), y.to(device)\n",
    "\n",
    "        # TODO: ここに実装を追加してください\n",
    "\n",
    "        loss_sum += loss.item()\n",
    "    return loss_sum / len(train_loader.dataset)\n",
    "\n",
    "\n",
    "def valid(\n",
    "    model: Baseline,\n",
    "    device: Literal[\"cpu\", \"cuda\"],\n",
    "    eval_loader: DataLoader,\n",
    ") -> float:\n",
    "    model.eval()\n",
    "    loss_sum = 0\n",
    "    with torch.no_grad():\n",
    "        for x, y in eval_loader:\n",
    "            x, y = x.to(device), y.to(device)\n",
    "            loss = loss_fn(model, x, y)\n",
    "            loss_sum += loss.item()\n",
    "    return loss_sum / len(eval_loader.dataset)"
   ]
  },
  {
   "cell_type": "markdown",
   "metadata": {},
   "source": [
    "### 問3-5\n",
    "\n",
    "ここまでに実装した Baseline を訓練し、検証データ・テストデータに対する予測性能の評価値として ROC AUC を求めてください。\n",
    "\n",
    "以下に Pytorch の実装を示します。この実装は改変せず、そのまま使用してください。"
   ]
  },
  {
   "cell_type": "code",
   "execution_count": null,
   "metadata": {
    "tags": []
   },
   "outputs": [],
   "source": [
    "from sklearn.preprocessing import StandardScaler\n",
    "from sklearn.metrics import roc_auc_score\n",
    "\n",
    "\n",
    "# training settings\n",
    "device = \"cpu\"\n",
    "model = Baseline().to(device)\n",
    "optimizer = torch.optim.Adam(model.parameters(), lr=1e-3)\n",
    "\n",
    "# dataset\n",
    "scaler = StandardScaler()\n",
    "X_train = scaler.fit_transform(data_train[[\"avg_rating\", \"num_reviews\"]].to_numpy())\n",
    "X_valid = scaler.transform(data_valid[[\"avg_rating\", \"num_reviews\"]].to_numpy())\n",
    "X_test = scaler.transform(data_test[[\"avg_rating\", \"num_reviews\"]].to_numpy())\n",
    "\n",
    "train_loader = torch.utils.data.DataLoader(\n",
    "    torch.utils.data.TensorDataset(\n",
    "        torch.tensor(X_train, dtype=torch.float32),\n",
    "        torch.tensor(data_train[\"clicked\"], dtype=torch.float32),\n",
    "    ),\n",
    "    batch_size=64,\n",
    "    shuffle=True,\n",
    "    drop_last=True,\n",
    ")\n",
    "valid_loader = torch.utils.data.DataLoader(\n",
    "    torch.utils.data.TensorDataset(\n",
    "        torch.tensor(X_valid, dtype=torch.float32),\n",
    "        torch.tensor(data_valid[\"clicked\"], dtype=torch.float32),\n",
    "    ),\n",
    "    batch_size=64,\n",
    ")\n",
    "\n",
    "# run training loop\n",
    "epoch_size = 200\n",
    "log_epoch_interval = 10\n",
    "print(\"Epoch\\ttrain loss\\tvalid loss\")\n",
    "for epoch in range(1, epoch_size + 1):\n",
    "    train_loss = train(model, device, train_loader, optimizer)\n",
    "    valid_loss = valid(model, device, valid_loader)\n",
    "    if epoch % log_epoch_interval == 0:\n",
    "        print(f\"{epoch}\\t{train_loss:.6f}\\t{valid_loss:.6f}\")\n",
    "\n",
    "\n",
    "def predict_to_dataset(\n",
    "    model: Baseline,\n",
    "    X: np.ndarray,\n",
    ") -> np.ndarray:\n",
    "    loader = torch.utils.data.DataLoader(\n",
    "        torch.utils.data.TensorDataset(\n",
    "            torch.tensor(X, dtype=torch.float32),\n",
    "        ),\n",
    "        batch_size=64,\n",
    "    )\n",
    "    model.eval()\n",
    "    with torch.no_grad():\n",
    "        pred = []\n",
    "        for x, in loader:\n",
    "            x = x.to(device)\n",
    "            pred.append(predict(model, x).detach().cpu().numpy())\n",
    "        return np.concatenate(pred, axis=0)\n",
    "\n",
    "\n",
    "print(\"Validation AUC:\", roc_auc_score(data_valid[\"clicked\"], predict_to_dataset(model, X_valid)))\n",
    "print(\"Test AUC:\", roc_auc_score(data_test[\"clicked\"], predict_to_dataset(model, X_test)))"
   ]
  },
  {
   "cell_type": "markdown",
   "metadata": {},
   "source": [
    "### 問3-6\n",
    "\n",
    "ここまでに実装した Baseline モデルは、モデル内部変数の初期化がランダムに実行されるため、機械学習の訓練には必ずしも再現性がありません。\n",
    "すなわち、Baseline モデルを全く同じプログラムを用いて訓練したとしても、常に同じ予測性能の機械学習モデルが得られるとは限りません。\n",
    "\n",
    "以下に、Baseline モデルを独立に 10 回作成・訓練・評価するためのプログラムを示します。\n",
    "このプログラムを改変せずそのまま用いて、10 回分の訓練結果を出力してください。"
   ]
  },
  {
   "cell_type": "code",
   "execution_count": null,
   "metadata": {},
   "outputs": [],
   "source": [
    "models = []\n",
    "for model_index in range(10):\n",
    "    print(f\"# Model {model_index}\")\n",
    "    model = Baseline().to(device)\n",
    "    models.append(model)\n",
    "    optimizer = torch.optim.Adam(model.parameters(), lr=1e-3)\n",
    "\n",
    "    epoch_size = 200\n",
    "    for epoch in range(1, epoch_size + 1):\n",
    "        train_loss = train(model, device, train_loader, optimizer)\n",
    "        valid_loss = valid(model, device, valid_loader)\n",
    "    print(f\"Train Loss {train_loss:.6f}\\tValid Loss {valid_loss:.6f}\\tAt Epoch {epoch_size}\")\n",
    "\n",
    "    valid_auc = roc_auc_score(data_valid[\"clicked\"], predict_to_dataset(model, X_valid))\n",
    "    test_auc = roc_auc_score(data_test[\"clicked\"], predict_to_dataset(model, X_test))\n",
    "    print(f\"Validation AUC: {valid_auc}\\tTest AUC: {test_auc}\")\n",
    "    print()"
   ]
  },
  {
   "cell_type": "markdown",
   "metadata": {},
   "source": [
    "### 問3-7\n",
    "\n",
    "問3-6 の出力を観察し、Baseline モデルの訓練のロバスト性および予測性能について説明してください。\n",
    "さらに、ここまでの問を通して作成してきた Baseline モデルがもつ問題点と改善策について議論してください。"
   ]
  },
  {
   "cell_type": "markdown",
   "metadata": {},
   "source": [
    "【問3-7の解答はここに Markdown テキストで記入してください】"
   ]
  },
  {
   "cell_type": "markdown",
   "metadata": {},
   "source": [
    "## 問4\n",
    "\n",
    "あなたがこのデータを分析していると、それを後ろから見ていた先輩が、こんなことを言ってきました。\n",
    "\n",
    "> 検索して出てきたレストランって、評価が高かったらいい店なんだろうし、レビューが多かったら人気のある店なんだろうから、期待してクリックしたくなるよね？\n",
    "\n",
    "そこであなたは、検索結果として表示されたレストランがクリックされる確率は、平均評価 `avg_rating` の高さや、レビューコメントの数 `num_reviews` と相関があると考え、このヒューリスティックを用いて Baseline モデルを改善してみることにしました。\n",
    "予測として出力される `clicked` の確率が、`avg_rating` や `num_reviews` に関して単調増加であることを保証するようなモデルを作成してみましょう。\n",
    "\n",
    "### 問4-1\n",
    "\n",
    "予測モデルの単調増加性を保証するアプローチを調査し、レポートしてください。"
   ]
  },
  {
   "cell_type": "markdown",
   "metadata": {},
   "source": [
    "【問4-1の解答はここに Markdown テキストで記入してください】"
   ]
  },
  {
   "cell_type": "markdown",
   "metadata": {},
   "source": [
    "### 問4-2\n",
    "\n",
    "予測として出力される `clicked` の確率が、`avg_rating` や `num_reviews` に関して単調増加であることを保証するようなモデルを実装・訓練・評価し、その結果について議論してください。\n",
    "\n",
    "問3 までに作成した実装をそのまま、または改変して、再利用することは差し支えありません。\n",
    "単調増加性の保証に関する複数の方針を実装・評価しても構いません。\n",
    "\n",
    "レポート評価にあたっては、最終的に得られた予測性能の良さや、試した方針の数よりもむしろ、調査・実装の過程や内容およびその説明を重視します。\n",
    "解答にあたっては、思考の過程がわかるように、適切にテキストやコメントを挿入してください。\n",
    "その際、解答にあたって参考にした文献は適切に引用してください。\n",
    "\n",
    "以下、自由にセルを追加して構いません。"
   ]
  },
  {
   "cell_type": "code",
   "execution_count": null,
   "metadata": {},
   "outputs": [],
   "source": []
  }
 ],
 "metadata": {
  "kernelspec": {
   "display_name": "Python 3 (ipykernel)",
   "language": "python",
   "name": "python3"
  },
  "language_info": {
   "codemirror_mode": {
    "name": "ipython",
    "version": 3
   },
   "file_extension": ".py",
   "mimetype": "text/x-python",
   "name": "python",
   "nbconvert_exporter": "python",
   "pygments_lexer": "ipython3",
   "version": "3.9.11"
  }
 },
 "nbformat": 4,
 "nbformat_minor": 4
}
